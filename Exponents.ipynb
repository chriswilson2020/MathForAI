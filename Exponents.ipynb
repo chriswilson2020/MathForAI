{
 "cells": [
  {
   "cell_type": "markdown",
   "id": "e4aea72c-5ca0-425c-9eba-52f29f2653e5",
   "metadata": {},
   "source": [
    "# A refresher on exponents"
   ]
  },
  {
   "cell_type": "markdown",
   "id": "eb823d46-6d98-40d7-a0f0-6cb58287e216",
   "metadata": {},
   "source": [
    "## The basics\n",
    "An exponent referes to how many times a number is multiplied by itself for example 2 to the third or two cubed is written as $2^3$: $$2 \\times 2 \\times 2 = 8$$\n",
    "\n",
    "There are some special cases to remember:\n",
    "\n",
    "1. A number raised to the power of 1 is always itself: $$a^1 = a$$ $$ 5^1 = 5$$\n",
    "\n",
    "2. When the exponent is zero the expression is always equal to 1:<br><br>\n",
    "$$ a^0 = 1$$ $$ 6^0 = 1$$ $$14,356^0 = 1$$\n",
    "\n",
    "3. When the exponent is a negative number, the result is always a fraction.  The numerator is always 1 and the denominator is the result of the positive exponent:<br><br>\n",
    "$$a^{-m} = \\frac{1}{a^m}$$\n",
    "$$6^{-3} = \\frac {1}{6^3}$$\n",
    "\n",
    "You can also have a variable to a given power such as $a^3$ which means $a \\times a \\times a$ you can also have a number to a variable power for example $2^m$ which would mean $ 2 \\times 2 \\; m$ times\n",
    "\n",
    "## The five rules of exponents\n",
    "\n",
    "1. $a^m \\times a^n = a^{(m+n)}$ -> adding the exponents\n",
    "2. $(a \\times b)^n = a^n \\times b^n$ -> expanding brackets\n",
    "3. $(a^m)^n = a^{(m \\times n}$ -> multiplying the exponents\n",
    "4. $\\frac{a^m}{a^n} = a^{(m-n)}$ -> subtract the exponents\n",
    "5. $(\\frac{a}{b})^n = \\frac{a^n}{b^n}$ -> dividing the powers\n",
    "\n",
    "### Working through rules\n",
    "\n",
    "#### Rule 1. \n",
    "Taking a number multiplied by itself m times and multiplying that same number multiplied by its self n times is the same as taking the number and raising it to the sum of the two powers. \n",
    "\n",
    "Let's try that below:"
   ]
  },
  {
   "cell_type": "code",
   "execution_count": 26,
   "id": "f3ae8b6e-13cd-4794-868e-1124ce052926",
   "metadata": {
    "tags": []
   },
   "outputs": [
    {
     "name": "stdout",
     "output_type": "stream",
     "text": [
      "a**m * a**n = a**(m+n)\n",
      "\n",
      "a to the power m = 81\n",
      "\n",
      "a to the power n = 243\n",
      "\n",
      "multiply the results (81 x 243) = 19,683\n",
      "\n",
      "a to the power of m+n = 19,683\n",
      "\n"
     ]
    }
   ],
   "source": [
    "a = 3\n",
    "m = 4\n",
    "n = 5\n",
    "\n",
    "print('a**m * a**n = a**(m+n)\\n')\n",
    "\n",
    "print(f'a to the power m = {a**m}\\n')\n",
    "print(f'a to the power n = {a**n}\\n')\n",
    "print(f'multiply the results (81 x 243) = {81*243:,}\\n')\n",
    "print(f'a to the power of m+n = {a**(m+n):,}\\n')"
   ]
  },
  {
   "cell_type": "markdown",
   "id": "3a949f9b-e2e5-48fc-9730-72059e67d73a",
   "metadata": {},
   "source": [
    "#### Rule 2. \n",
    "When multiplying two numbers then multiplu and then multiply product by itself n times, this is the same as multiplying the first number by itself n times and multipling that by a second number multiplied by itself n times.\n",
    "\n",
    "Let's try that below:"
   ]
  },
  {
   "cell_type": "code",
   "execution_count": 37,
   "id": "e5dfd409-27a1-4f38-8d4f-f18ab7de1d5f",
   "metadata": {
    "tags": []
   },
   "outputs": [
    {
     "name": "stdout",
     "output_type": "stream",
     "text": [
      "(a * b)**n = a**n * b**n\n",
      "\n",
      "(a * b)**n = 1,889,568\n",
      "\n",
      "a**n * b**n = 1,889,568\n",
      "\n"
     ]
    }
   ],
   "source": [
    "a = 3\n",
    "b = 6\n",
    "n = 5\n",
    "\n",
    "print('(a * b)**n = a**n * b**n\\n')\n",
    "\n",
    "print(f'(a * b)**n = {(a * b)**n:,}\\n')\n",
    "print(f'a**n * b**n = {a**n * b**n:,}\\n')"
   ]
  },
  {
   "cell_type": "markdown",
   "id": "3194a632-82ab-4f14-9517-08beb1d84567",
   "metadata": {},
   "source": [
    "#### Rule 3.\n",
    "\n",
    "Taking a number a, and multiplying it by itself m times then multiply that product by itself n tiumes is the same as multiplying the number by itself $m \\times n$ times.\n",
    "\n",
    "Lets see by example:"
   ]
  },
  {
   "cell_type": "code",
   "execution_count": 36,
   "id": "1d6c64d3-23fa-444f-a5cc-d71e8993b7cc",
   "metadata": {
    "tags": []
   },
   "outputs": [
    {
     "name": "stdout",
     "output_type": "stream",
     "text": [
      "(a**m)**n = a**(m*n)\n",
      "\n",
      "(a**m)**n = (3**4)**5 = 3,486,784,401\n",
      "\n",
      "m*n = 20 therefore 3**20 = 3,486,784,401\n",
      "\n"
     ]
    }
   ],
   "source": [
    "a = 3\n",
    "m = 4\n",
    "n = 5\n",
    "\n",
    "print(f'(a**m)**n = a**(m*n)\\n')\n",
    "print(f'(a**m)**n = (3**4)**5 = {(a**m)**n:,}\\n')\n",
    "print(f'm*n = {m*n} therefore 3**20 = {3**20:,}\\n')\n"
   ]
  },
  {
   "cell_type": "markdown",
   "id": "4fdd0aeb-a4ee-47f6-b2b2-8aabc803fcab",
   "metadata": {},
   "source": [
    "#### Rule 4. \n",
    "Taking a number $a$ and multiplying it by itseld $m$ times then divide that product by $a$ multiplied by itself n times its the same as multiplied by itself $m-n$ times.\n",
    "\n",
    "Let's see the example:"
   ]
  },
  {
   "cell_type": "code",
   "execution_count": 45,
   "id": "894366e6-2665-4777-9dcc-98ad7bf825c7",
   "metadata": {
    "tags": []
   },
   "outputs": [
    {
     "name": "stdout",
     "output_type": "stream",
     "text": [
      "a**m / a**n = a**(m-n)\n",
      "\n",
      "3**4/3**5 = 3**(4-5) = 3**-1\n",
      "Note: How do we raise a number to a negative exponent?\n",
      "\n",
      "3**-1 = 0.3333333333333333\n"
     ]
    }
   ],
   "source": [
    "a = 3\n",
    "m = 4\n",
    "n = 5\n",
    "\n",
    "print('a**m / a**n = a**(m-n)\\n')\n",
    "print(f'3**4/3**5 = 3**(4-5) = 3**-1\\nNote: How do we raise a number to a negative exponent?\\n')\n",
    "print(f'3**-1 = {3**(-1)}')"
   ]
  },
  {
   "cell_type": "markdown",
   "id": "7fd522af-d270-4b0e-9f1b-1a45e820e304",
   "metadata": {},
   "source": [
    "#### Rule 5.\n",
    "Dividing a number $a$ by another number $b$ and multiplying it by its self $n$ times is the same as multiplying it by the number its self n times and then dividing it by the number $b$ multiplied by itself $n$ times.\n",
    "\n",
    "Lets see the example:"
   ]
  },
  {
   "cell_type": "code",
   "execution_count": 55,
   "id": "9fdb1f83-912c-4280-b29b-c75c8485c30f",
   "metadata": {
    "tags": []
   },
   "outputs": [
    {
     "name": "stdout",
     "output_type": "stream",
     "text": [
      "(a/b)**n = a**n / b**n\n",
      "\n",
      "3**5 = 243 and 6**5 = 7776\n",
      "\n",
      "243/7776 = 0.03125\n",
      "\n",
      "(3/6)**5 = 0.03125 = 3**5 / 6**5 = 0.03125\n",
      "\n",
      "Remember that 3/6 can be reduced to 1/2\n",
      "\n",
      "Therefore (1/2)**5 = 0.03125\n"
     ]
    }
   ],
   "source": [
    "a = 3\n",
    "b = 6\n",
    "n = 5\n",
    "\n",
    "print('(a/b)**n = a**n / b**n\\n')\n",
    "print(f'3**5 = {3**5} and 6**5 = {6**5}\\n')\n",
    "print(f'243/7776 = {243/7776}\\n')\n",
    "print(f'(3/6)**5 = {(a/b)**n} = 3**5 / 6**5 = {(a**n)/(b**n)}')\n",
    "\n",
    "print('\\nRemember that 3/6 can be reduced to 1/2')\n",
    "\n",
    "print(f'\\nTherefore (1/2)**5 = {(1/2)**5}')"
   ]
  },
  {
   "cell_type": "code",
   "execution_count": null,
   "id": "8d96d728-a6a5-4caf-98ae-9f2b2371e3a7",
   "metadata": {},
   "outputs": [],
   "source": []
  }
 ],
 "metadata": {
  "kernelspec": {
   "display_name": "Python 3 (ipykernel)",
   "language": "python",
   "name": "python3"
  },
  "language_info": {
   "codemirror_mode": {
    "name": "ipython",
    "version": 3
   },
   "file_extension": ".py",
   "mimetype": "text/x-python",
   "name": "python",
   "nbconvert_exporter": "python",
   "pygments_lexer": "ipython3",
   "version": "3.11.5"
  }
 },
 "nbformat": 4,
 "nbformat_minor": 5
}
