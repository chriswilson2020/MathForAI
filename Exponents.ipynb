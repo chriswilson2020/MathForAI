{
 "cells": [
  {
   "cell_type": "markdown",
   "id": "e4aea72c-5ca0-425c-9eba-52f29f2653e5",
   "metadata": {},
   "source": [
    "# A refresher on exponents"
   ]
  },
  {
   "cell_type": "code",
   "execution_count": null,
   "id": "1bade748-a908-42ec-acd3-b8c33a15e487",
   "metadata": {},
   "outputs": [],
   "source": []
  }
 ],
 "metadata": {
  "kernelspec": {
   "display_name": "Python 3 (ipykernel)",
   "language": "python",
   "name": "python3"
  },
  "language_info": {
   "codemirror_mode": {
    "name": "ipython",
    "version": 3
   },
   "file_extension": ".py",
   "mimetype": "text/x-python",
   "name": "python",
   "nbconvert_exporter": "python",
   "pygments_lexer": "ipython3",
   "version": "3.11.5"
  }
 },
 "nbformat": 4,
 "nbformat_minor": 5
}
