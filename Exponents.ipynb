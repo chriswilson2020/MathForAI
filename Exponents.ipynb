{
 "cells": [
  {
   "cell_type": "markdown",
   "id": "e4aea72c-5ca0-425c-9eba-52f29f2653e5",
   "metadata": {},
   "source": [
    "# A refresher on exponents"
   ]
  },
  {
   "cell_type": "markdown",
   "id": "eb823d46-6d98-40d7-a0f0-6cb58287e216",
   "metadata": {},
   "source": [
    "## The basics\n",
    "An exponent referes to how many times a number is multiplied by itself for example 2 to the third or two cubed is written as $2^3$: $$2 \\times 2 \\times 2 = 8$$\n",
    "\n",
    "There are some special cases to remember:\n",
    "\n",
    "1. A number raised to the power of 1 is always itself: $$a^1 = a$$ $$ 5^1 = 5$$\n",
    "\n",
    "2. When the exponent is zero the expression is always equal to 1:<br><br>\n",
    "$$ a^0 = 1$$ $$ 6^0 = 1$$ $$14,356^0 = 1$$\n",
    "\n",
    "3. When the exponent is a negative number, the result is always a fraction.  The numerator is always 1 and the denominator is the result of the positive exponent:<br><br>\n",
    "$$a^{-m} = \\frac{1}{a^m}$$\n",
    "$$6^{-3} = \\frac {1}{6^3}$$\n",
    "\n",
    "You can also have a variable to a given power such as $a^3$ which means $a \\times a \\times a$ you can also have a number to a variable power for example $2^m$ which would mean $ 2 \\times 2 \\; m$ times"
   ]
  }
 ],
 "metadata": {
  "kernelspec": {
   "display_name": "Python 3 (ipykernel)",
   "language": "python",
   "name": "python3"
  },
  "language_info": {
   "codemirror_mode": {
    "name": "ipython",
    "version": 3
   },
   "file_extension": ".py",
   "mimetype": "text/x-python",
   "name": "python",
   "nbconvert_exporter": "python",
   "pygments_lexer": "ipython3",
   "version": "3.11.5"
  }
 },
 "nbformat": 4,
 "nbformat_minor": 5
}
